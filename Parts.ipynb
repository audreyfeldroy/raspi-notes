{
 "metadata": {
  "name": "",
  "signature": "sha256:dd3349ed3374d52a134eaecf1c06f78423888ce7a67985e479307c0ac1bbd3dc"
 },
 "nbformat": 3,
 "nbformat_minor": 0,
 "worksheets": [
  {
   "cells": [
    {
     "cell_type": "heading",
     "level": 1,
     "metadata": {},
     "source": [
      "Where to buy electronic parts"
     ]
    },
    {
     "cell_type": "markdown",
     "metadata": {},
     "source": [
      "* newark element 14\n",
      "* adafruit\n",
      "* sparkfun\n",
      "* mouser\n",
      "* digikey\n",
      "* jameco\n",
      "* electronics 123\n",
      "* ebay\n",
      "* amazon: sunfounder\n",
      "* electronic goldmine"
     ]
    },
    {
     "cell_type": "code",
     "collapsed": false,
     "input": [],
     "language": "python",
     "metadata": {},
     "outputs": []
    }
   ],
   "metadata": {}
  }
 ]
}